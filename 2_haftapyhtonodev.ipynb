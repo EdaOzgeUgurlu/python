{
  "nbformat": 4,
  "nbformat_minor": 0,
  "metadata": {
    "colab": {
      "provenance": [],
      "authorship_tag": "ABX9TyOAYFC0mdMZfvcItwPr6XWI",
      "include_colab_link": true
    },
    "kernelspec": {
      "name": "python3",
      "display_name": "Python 3"
    },
    "language_info": {
      "name": "python"
    }
  },
  "cells": [
    {
      "cell_type": "markdown",
      "metadata": {
        "id": "view-in-github",
        "colab_type": "text"
      },
      "source": [
        "<a href=\"https://colab.research.google.com/github/EdaOzgeUgurlu/python/blob/main/2_haftapyhtonodev.ipynb\" target=\"_parent\"><img src=\"https://colab.research.google.com/assets/colab-badge.svg\" alt=\"Open In Colab\"/></a>"
      ]
    },
    {
      "cell_type": "markdown",
      "source": [
        "KULLANICIDAN BİR DEĞER ALINDI"
      ],
      "metadata": {
        "id": "oOytjRTTDjKI"
      }
    },
    {
      "cell_type": "code",
      "execution_count": null,
      "metadata": {
        "id": "pro4N_TyDGSc"
      },
      "outputs": [],
      "source": [
        "sayi = int(input(\"Lütfen bir sayı girin: \"))\n",
        "print(\"Girdiğiniz sayı:\", sayi)"
      ]
    },
    {
      "cell_type": "markdown",
      "source": [
        "GİRİLEN BU SAYININ POZİTİF, NEGATİF YA DA SIFIR OLMASI DURUMU"
      ],
      "metadata": {
        "id": "s5gSbkLeE24D"
      }
    },
    {
      "cell_type": "code",
      "source": [
        "if sayi > 0:\n",
        "    print(\"Pozitif bir sayı girdiniz.\")\n",
        "elif sayi < 0:\n",
        "    print(\"Negatif bir sayı girdiniz.\")\n",
        "else:\n",
        "    print(\"Girdiğiniz sayı sıfır.\")"
      ],
      "metadata": {
        "id": "4eg1IUANE3qU"
      },
      "execution_count": null,
      "outputs": []
    },
    {
      "cell_type": "markdown",
      "source": [
        "BU SAYININ ÇİFT VE POZİTİF OLMA KOŞULU"
      ],
      "metadata": {
        "id": "7NUDX_d6FtE4"
      }
    },
    {
      "cell_type": "code",
      "source": [
        "if sayi % 2 == 0 :\n",
        "    print(\"sayı çiftir\")\n",
        "else:\n",
        "    print(\"sayı tektir\")"
      ],
      "metadata": {
        "id": "H-lqKpAjFzHg"
      },
      "execution_count": null,
      "outputs": []
    },
    {
      "cell_type": "markdown",
      "source": [
        "GİRİLEN NOTA GÖRE HARF ARALIĞI 80-100 A / 60-80 B"
      ],
      "metadata": {
        "id": "cl4EC008Go6E"
      }
    },
    {
      "cell_type": "code",
      "source": [
        "notunuz = int(input(\"Lütfen aldığınız notu giriniz: \"))\n",
        "print(\"Aldığınız not:\", notunuz)\n",
        "\n",
        "if notunuz >= 80:\n",
        "    print(\"Tebrikler, harf notunuz A\")\n",
        "elif notunuz < 80 and notunuz >= 60 :\n",
        "    print(\"Tebrikler, harf notunuz B\")\n",
        "else:\n",
        "    print(\"Harf notunuz F kaldınız. Üzgünüm.\")"
      ],
      "metadata": {
        "id": "OZkvo0qAG9JV"
      },
      "execution_count": null,
      "outputs": []
    },
    {
      "cell_type": "markdown",
      "source": [
        "KULLANICIDAN İSİM AL VE BU İSİM 5 KARAKTERDEN FAZLA İSE İSMİNİZ ÇOK UZUN YAZDIR"
      ],
      "metadata": {
        "id": "k_z66dmQJUqG"
      }
    },
    {
      "cell_type": "code",
      "source": [
        "isim = input(\"Lütfen isminizi giriniz: \")\n",
        "print(\"Girdiğiniz isim:\", isim)\n",
        "\n",
        "if len(isim) > 5:\n",
        "    print(\"İsminiz çok uzun.\")\n",
        "else:\n",
        "    print(\"İsminiz uygun.\")"
      ],
      "metadata": {
        "id": "FL3N0D5cKAaf"
      },
      "execution_count": null,
      "outputs": []
    }
  ]
}