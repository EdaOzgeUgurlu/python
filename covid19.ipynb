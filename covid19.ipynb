{
  "nbformat": 4,
  "nbformat_minor": 0,
  "metadata": {
    "colab": {
      "provenance": [],
      "authorship_tag": "ABX9TyN2rcknZXbjq39XctUtJ8c+",
      "include_colab_link": true
    },
    "kernelspec": {
      "name": "python3",
      "display_name": "Python 3"
    },
    "language_info": {
      "name": "python"
    }
  },
  "cells": [
    {
      "cell_type": "markdown",
      "metadata": {
        "id": "view-in-github",
        "colab_type": "text"
      },
      "source": [
        "<a href=\"https://colab.research.google.com/github/EdaOzgeUgurlu/python/blob/main/covid19.ipynb\" target=\"_parent\"><img src=\"https://colab.research.google.com/assets/colab-badge.svg\" alt=\"Open In Colab\"/></a>"
      ]
    },
    {
      "cell_type": "code",
      "execution_count": null,
      "metadata": {
        "id": "KuHhZtbwcUIF"
      },
      "outputs": [],
      "source": [
        "# 1. Veriyi yükle\n",
        "df = pd.read_csv(\"metadata.csv\", low_memory=False)\n",
        "\n",
        "# 2. Sadece geçerli başlıkları al\n",
        "titles = df['title'].dropna().tolist()\n",
        "\n",
        "# 3. Alfabetik sırala\n",
        "titles.sort()\n",
        "\n",
        "# 4. Binary Search fonksiyonu\n",
        "def binary_search_titles(titles, keyword):\n",
        "    left, right = 0, len(titles) - 1\n",
        "    while left <= right:\n",
        "        mid = (left + right) // 2\n",
        "        title = titles[mid].lower()\n",
        "        if keyword in title:\n",
        "            return titles[mid]\n",
        "        elif keyword < title:\n",
        "            right = mid - 1\n",
        "        else:\n",
        "            left = mid + 1\n",
        "    return \"Başlık bulunamadı.\"\n",
        "\n",
        "# 5. Anahtar kelime ile ara\n",
        "keyword = input(\"Aranacak kelime: \").lower()\n",
        "result = binary_search_titles(titles, keyword)\n",
        "\n",
        "print(\"Sonuç:\", result)\n",
        "Aranacak kelime: vaccine\n",
        "\n",
        "Çıktı: \"Effectiveness of mRNA Covid-19 Vaccine after 6 Months\""
      ]
    }
  ]
}