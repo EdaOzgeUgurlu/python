{
  "nbformat": 4,
  "nbformat_minor": 0,
  "metadata": {
    "colab": {
      "provenance": [],
      "authorship_tag": "ABX9TyNXjePkrNYJY1awzSh2ROX6",
      "include_colab_link": true
    },
    "kernelspec": {
      "name": "python3",
      "display_name": "Python 3"
    },
    "language_info": {
      "name": "python"
    }
  },
  "cells": [
    {
      "cell_type": "markdown",
      "metadata": {
        "id": "view-in-github",
        "colab_type": "text"
      },
      "source": [
        "<a href=\"https://colab.research.google.com/github/EdaOzgeUgurlu/python/blob/main/pythontemelodev_eda.ipynb\" target=\"_parent\"><img src=\"https://colab.research.google.com/assets/colab-badge.svg\" alt=\"Open In Colab\"/></a>"
      ]
    },
    {
      "cell_type": "markdown",
      "source": [
        "#1- Bir listeyi düzleştiren (flatten) fonksiyon yazın. Elemanları birden çok katmanlı listelerden ([[3],2] gibi) oluşabileceği gibi, non-scalar verilerden de oluşabilir. Örnek olarak:\n",
        "\n",
        "input: [[1,'a',['cat'],2],[[[3]],'dog'],4,5]\n",
        "\n",
        "output: [1,'a','cat',2,3,'dog',4,5]"
      ],
      "metadata": {
        "id": "xKcB0FVkamTh"
      }
    },
    {
      "cell_type": "code",
      "execution_count": null,
      "metadata": {
        "colab": {
          "base_uri": "https://localhost:8080/"
        },
        "id": "m_RmwngeaTlp",
        "outputId": "676b0d9a-f0a3-49ce-a25d-b80cebf4f6bd"
      },
      "outputs": [
        {
          "output_type": "stream",
          "name": "stdout",
          "text": [
            "[1, 'a', 'cat', 2, 3, 'dog', 4, 5]\n"
          ]
        }
      ],
      "source": [
        "def flatten(lst):\n",
        "    result = []\n",
        "    for item in lst:\n",
        "        if isinstance(item, list):  # Eğer eleman listeyse\n",
        "            result.extend(flatten(item))  # Rekürsif olarak içeri gir ve elemanları ekle\n",
        "        else:\n",
        "            result.append(item)  # Liste değilse direkt ekle\n",
        "    return result\n",
        "\n",
        "# Örnek kullanım\n",
        "input_list = [[1, 'a', ['cat'], 2], [[[3]], 'dog'], 4, 5]\n",
        "output = flatten(input_list)\n",
        "print(output)\n"
      ]
    },
    {
      "cell_type": "markdown",
      "source": [
        "2- Verilen listenin içindeki elemanları tersine döndüren bir fonksiyon yazın. Eğer listenin içindeki elemanlar da liste içeriyorsa onların elemanlarını da tersine döndürün. Örnek olarak:\n",
        "\n",
        "input: [[1, 2], [3, 4], [5, 6, 7]]\n",
        "\n",
        "output: [[[7, 6, 5], [4, 3], [2, 1]]"
      ],
      "metadata": {
        "id": "1ESPmC3dbA9v"
      }
    },
    {
      "cell_type": "code",
      "source": [
        "def reverse_and_inner_reverse(lst):\n",
        "    reversed_list = []\n",
        "    for item in reversed(lst):  # Önce dış listeyi ters çevir\n",
        "        if isinstance(item, list):  # Eğer eleman listeyse\n",
        "            reversed_list.append(reverse_and_inner_reverse(item))  # İç listeyi de ters çevir\n",
        "        else:\n",
        "            reversed_list.append(item)\n",
        "    return reversed_list\n",
        "\n",
        "# Örnek kullanım\n",
        "input_list = [[1, 2], [3, 4], [5, 6, 7]]\n",
        "output = reverse_and_inner_reverse(input_list)\n",
        "print(output)\n"
      ],
      "metadata": {
        "colab": {
          "base_uri": "https://localhost:8080/"
        },
        "id": "uoO1HuzgbH1T",
        "outputId": "6d79f20d-1c7c-437a-8ba8-daeaff592299"
      },
      "execution_count": null,
      "outputs": [
        {
          "output_type": "stream",
          "name": "stdout",
          "text": [
            "[[7, 6, 5], [4, 3], [2, 1]]\n"
          ]
        }
      ]
    }
  ]
}