{
  "nbformat": 4,
  "nbformat_minor": 0,
  "metadata": {
    "colab": {
      "provenance": [],
      "authorship_tag": "ABX9TyPee7KB/ZYWsvDkG5aeZA9O",
      "include_colab_link": true
    },
    "kernelspec": {
      "name": "python3",
      "display_name": "Python 3"
    },
    "language_info": {
      "name": "python"
    }
  },
  "cells": [
    {
      "cell_type": "markdown",
      "metadata": {
        "id": "view-in-github",
        "colab_type": "text"
      },
      "source": [
        "<a href=\"https://colab.research.google.com/github/EdaOzgeUgurlu/python/blob/main/python_101.ipynb\" target=\"_parent\"><img src=\"https://colab.research.google.com/assets/colab-badge.svg\" alt=\"Open In Colab\"/></a>"
      ]
    },
    {
      "cell_type": "markdown",
      "source": [
        "1️⃣ Python’a Giriş\n",
        "Python, okunabilirliği yüksek, yorumlamalı bir programlama dilidir.\n",
        "\n",
        ".py uzantısı ile dosyalar oluşturulur."
      ],
      "metadata": {
        "id": "8rYzHYI4fV-U"
      }
    },
    {
      "cell_type": "markdown",
      "source": [
        "2️⃣ Değişkenler ve Veri Türleri"
      ],
      "metadata": {
        "id": "-IL61xRZfo9j"
      }
    },
    {
      "cell_type": "code",
      "source": [
        "# Sayılar\n",
        "sayi = 10          # int\n",
        "oran = 3.14        # float\n",
        "\n",
        "# Metin\n",
        "isim = \"Eda\"       # str\n",
        "\n",
        "# Mantıksal (Boolean)\n",
        "durum = True       # bool"
      ],
      "metadata": {
        "id": "VUeVIaI6fWX8"
      },
      "execution_count": null,
      "outputs": []
    },
    {
      "cell_type": "markdown",
      "source": [
        "3️⃣ Girdi ve Çıktı"
      ],
      "metadata": {
        "id": "wnS5AF1zfWm7"
      }
    },
    {
      "cell_type": "code",
      "source": [
        "isim = input(\"Adınız nedir? \")  # Kullanıcıdan veri alma\n",
        "print(\"Merhaba\", isim)          # Ekrana yazdırma"
      ],
      "metadata": {
        "id": "9dBOki3DfW1D"
      },
      "execution_count": null,
      "outputs": []
    },
    {
      "cell_type": "markdown",
      "source": [
        "4️⃣ Koşullu İfadeler (if-elif-else)"
      ],
      "metadata": {
        "id": "ldyLizL3fXBR"
      }
    },
    {
      "cell_type": "code",
      "source": [
        "yas = int(input(\"Yaşınızı girin: \"))\n",
        "if yas >= 18:\n",
        "    print(\"Reşitsiniz.\")\n",
        "else:\n",
        "    print(\"Reşit değilsiniz.\")"
      ],
      "metadata": {
        "id": "hFcBsaB_fXKj"
      },
      "execution_count": null,
      "outputs": []
    },
    {
      "cell_type": "markdown",
      "source": [
        "5️⃣️⃣ Döngüler"
      ],
      "metadata": {
        "id": "hTHxNV0afXUF"
      }
    },
    {
      "cell_type": "code",
      "source": [
        "# for döngüsü\n",
        "for i in range(5):\n",
        "    print(i)\n",
        "\n",
        "# while döngüsü\n",
        "sayi = 0\n",
        "while sayi < 5:\n",
        "    print(sayi)\n",
        "    sayi += 1"
      ],
      "metadata": {
        "id": "IU2UCbn8fXdH"
      },
      "execution_count": null,
      "outputs": []
    },
    {
      "cell_type": "markdown",
      "source": [
        "6️⃣ Listeler"
      ],
      "metadata": {
        "id": "1R8cfOzOfXoJ"
      }
    },
    {
      "cell_type": "code",
      "source": [
        "meyveler = [\"elma\", \"muz\", \"çilek\"]\n",
        "print(meyveler[0])           # elma\n",
        "meyveler.append(\"portakal\")  # listeye eleman ekler"
      ],
      "metadata": {
        "id": "ag2of3zCfXxE"
      },
      "execution_count": null,
      "outputs": []
    },
    {
      "cell_type": "markdown",
      "source": [
        "7️⃣ Fonksiyonlar"
      ],
      "metadata": {
        "id": "9MyyttDffX50"
      }
    },
    {
      "cell_type": "code",
      "source": [
        "def topla(a, b):\n",
        "    return a + b\n",
        "\n",
        "print(topla(3, 5))  # 8"
      ],
      "metadata": {
        "id": "VFXWSlqofYDw"
      },
      "execution_count": null,
      "outputs": []
    },
    {
      "cell_type": "markdown",
      "source": [
        "8️⃣ Hatalar ve Try-Except"
      ],
      "metadata": {
        "id": "pivGXU41fYNJ"
      }
    },
    {
      "cell_type": "code",
      "source": [
        "try:\n",
        "    sayi = int(input(\"Sayı girin: \"))\n",
        "except ValueError:\n",
        "    print(\"Geçersiz sayı!\")"
      ],
      "metadata": {
        "id": "-jbrAUZEfYYh"
      },
      "execution_count": null,
      "outputs": []
    },
    {
      "cell_type": "markdown",
      "source": [
        "9️⃣ Sözlükler (dictionary)"
      ],
      "metadata": {
        "id": "KCO_JHJXieob"
      }
    },
    {
      "cell_type": "code",
      "source": [
        "kisi = {\"ad\": \"Eda\", \"yas\": 30}\n",
        "print(kisi[\"ad\"])  # Eda"
      ],
      "metadata": {
        "id": "p6I84ONUimo2"
      },
      "execution_count": null,
      "outputs": []
    },
    {
      "cell_type": "markdown",
      "source": [
        "🔟 Modüller"
      ],
      "metadata": {
        "id": "OZlPXdqti19z"
      }
    },
    {
      "cell_type": "code",
      "source": [
        "import math\n",
        "print(math.sqrt(16))  # 4.0"
      ],
      "metadata": {
        "id": "yhyLcnOpi8Q9"
      },
      "execution_count": null,
      "outputs": []
    }
  ]
}