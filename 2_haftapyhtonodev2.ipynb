{
  "nbformat": 4,
  "nbformat_minor": 0,
  "metadata": {
    "colab": {
      "provenance": [],
      "authorship_tag": "ABX9TyNnza+qHQ9B9uQtV1oOCX9j",
      "include_colab_link": true
    },
    "kernelspec": {
      "name": "python3",
      "display_name": "Python 3"
    },
    "language_info": {
      "name": "python"
    }
  },
  "cells": [
    {
      "cell_type": "markdown",
      "metadata": {
        "id": "view-in-github",
        "colab_type": "text"
      },
      "source": [
        "<a href=\"https://colab.research.google.com/github/EdaOzgeUgurlu/python/blob/main/2_haftapyhtonodev2.ipynb\" target=\"_parent\"><img src=\"https://colab.research.google.com/assets/colab-badge.svg\" alt=\"Open In Colab\"/></a>"
      ]
    },
    {
      "cell_type": "markdown",
      "source": [
        "GİRİLEN SAYININ ASAL OLUP OLMADIĞI - FOR İLE"
      ],
      "metadata": {
        "id": "t-IQVdPwSn-K"
      }
    },
    {
      "cell_type": "code",
      "execution_count": null,
      "metadata": {
        "id": "nBEgb4qrSQgC"
      },
      "outputs": [],
      "source": [
        "sayi = int(input(\"Lütfen bir sayı girin: \"))\n",
        "\n",
        "if sayi <= 1:\n",
        "    print(\"Asal sayı değildir.\")\n",
        "else:\n",
        "    asal = True\n",
        "    for i in range(2, sayi):\n",
        "        if sayi % i == 0:\n",
        "            asal = False\n",
        "            break\n",
        "\n",
        "    if asal:\n",
        "        print(\"Bu sayı asaldır.\")\n",
        "    else:\n",
        "        print(\"Bu sayı asal değildir.\")"
      ]
    },
    {
      "cell_type": "markdown",
      "source": [
        "GİRİLEN SAYININ ASAL OLUP OLMADIĞI - WHİLE İLE"
      ],
      "metadata": {
        "id": "x5zcBaaJZNzc"
      }
    },
    {
      "cell_type": "code",
      "source": [
        "sayi = int(input(\"Lütfen bir sayı girin: \"))\n",
        "\n",
        "if sayi <= 1:\n",
        "    print(\"Asal sayı değildir.\")\n",
        "else:\n",
        "    i = 2\n",
        "    asal = True\n",
        "    while i < sayi:\n",
        "        if sayi % i == 0:\n",
        "            asal = False\n",
        "            break\n",
        "        i += 1\n",
        "\n",
        "    if asal:\n",
        "        print(\"Bu sayı asaldır.\")\n",
        "    else:\n",
        "        print(\"Bu sayı asal değildir.\")\n"
      ],
      "metadata": {
        "id": "4u2e4Fr9Zu3q"
      },
      "execution_count": null,
      "outputs": []
    },
    {
      "cell_type": "markdown",
      "source": [
        "NOTLAR=[45,85, 75,50]DİZESİNDE 75 İNDİSİNİ YAZDIRMA"
      ],
      "metadata": {
        "id": "lJzNlI7JbtzI"
      }
    },
    {
      "cell_type": "code",
      "source": [
        "notlar = [45, 85, 75, 50]\n",
        "\n",
        "print(\"75 sayısının indeksi:\", notlar.index(75))"
      ],
      "metadata": {
        "colab": {
          "base_uri": "https://localhost:8080/"
        },
        "id": "qH0avVuPb-aX",
        "outputId": "5bb0a833-4f7c-4adb-fa0d-fed62a12e9ac"
      },
      "execution_count": 3,
      "outputs": [
        {
          "output_type": "stream",
          "name": "stdout",
          "text": [
            "75 sayısının indeksi: 2\n"
          ]
        }
      ]
    },
    {
      "cell_type": "code",
      "source": [
        "notlar = [45, 85, 75, 50]\n",
        "\n",
        "for i in range(len(notlar)):\n",
        "    if notlar[i] == 75:\n",
        "        print(\"75 sayısının indeksi:\", i)\n",
        "        break"
      ],
      "metadata": {
        "colab": {
          "base_uri": "https://localhost:8080/"
        },
        "id": "7QOcqsHdccGe",
        "outputId": "e75db5a7-7822-4a16-a3f1-9935e15d961f"
      },
      "execution_count": 4,
      "outputs": [
        {
          "output_type": "stream",
          "name": "stdout",
          "text": [
            "75 sayısının indeksi: 2\n"
          ]
        }
      ]
    },
    {
      "cell_type": "markdown",
      "source": [
        "GİRİLEN SAYININ FAKTÖRİYELİNİ HEM FOR HEM DE WHILE DÖNGÜSÜYLE HESAPLAMA"
      ],
      "metadata": {
        "id": "uVwdnwBzcvh6"
      }
    },
    {
      "cell_type": "code",
      "source": [
        "sayi = int(input(\"Faktöriyeli alınacak sayıyı girin: \"))\n",
        "faktoriyel = 1\n",
        "\n",
        "if sayi < 0:\n",
        "    print(\"Negatif sayıların faktöriyeli alınamaz.\")\n",
        "else:\n",
        "    for i in range(1, sayi + 1):\n",
        "        faktoriyel *= i\n",
        "    print(f\"{sayi}! = {faktoriyel}\")"
      ],
      "metadata": {
        "id": "KMwi66OudJBS"
      },
      "execution_count": null,
      "outputs": []
    },
    {
      "cell_type": "code",
      "source": [
        "sayi = int(input(\"Faktöriyeli alınacak sayıyı girin: \"))\n",
        "faktoriyel = 1\n",
        "i = 1\n",
        "\n",
        "if sayi < 0:\n",
        "    print(\"Negatif sayıların faktöriyeli alınamaz.\")\n",
        "else:\n",
        "    while i <= sayi:\n",
        "        faktoriyel *= i\n",
        "        i += 1\n",
        "    print(f\"{sayi}! = {faktoriyel}\")\n"
      ],
      "metadata": {
        "id": "qJLLPB3TdOj2"
      },
      "execution_count": null,
      "outputs": []
    },
    {
      "cell_type": "markdown",
      "source": [
        "GİRİLEN SAYININ FAKTÖRİYELİNİ ALMA"
      ],
      "metadata": {
        "id": "c2f9xgpCe88Q"
      }
    },
    {
      "cell_type": "code",
      "source": [
        "sayi = int(input(\"Faktöriyeli alınacak sayıyı giriniz: \"))\n",
        "faktoriyel = 1\n",
        "\n",
        "if sayi < 0:\n",
        "    print(\"Negatif sayıların faktöriyeli hesaplanamaz.\")\n",
        "else:\n",
        "    for i in range(1, sayi + 1):\n",
        "        faktoriyel *= i\n",
        "    print(f\"{sayi}! = {faktoriyel}\")\n"
      ],
      "metadata": {
        "id": "fhlV4CQge_k_"
      },
      "execution_count": null,
      "outputs": []
    }
  ]
}