{
  "nbformat": 4,
  "nbformat_minor": 0,
  "metadata": {
    "colab": {
      "provenance": [],
      "authorship_tag": "ABX9TyMx7Lwc+3db8GKXdHVvnKaR",
      "include_colab_link": true
    },
    "kernelspec": {
      "name": "python3",
      "display_name": "Python 3"
    },
    "language_info": {
      "name": "python"
    }
  },
  "cells": [
    {
      "cell_type": "markdown",
      "metadata": {
        "id": "view-in-github",
        "colab_type": "text"
      },
      "source": [
        "<a href=\"https://colab.research.google.com/github/EdaOzgeUgurlu/python/blob/main/2_haftapythonodev.ipynb\" target=\"_parent\"><img src=\"https://colab.research.google.com/assets/colab-badge.svg\" alt=\"Open In Colab\"/></a>"
      ]
    },
    {
      "cell_type": "markdown",
      "source": [
        "KULLANICIDAN BİR DEĞER ALINDI"
      ],
      "metadata": {
        "id": "oOytjRTTDjKI"
      }
    },
    {
      "cell_type": "code",
      "execution_count": null,
      "metadata": {
        "id": "pro4N_TyDGSc"
      },
      "outputs": [],
      "source": [
        "sayi = int(input(\"Lütfen bir sayı girin: \"))\n",
        "print(\"Girdiğiniz sayı:\", sayi)"
      ]
    },
    {
      "cell_type": "markdown",
      "source": [
        "GİRİLEN BU SAYININ POZİTİF, NEGATİF YA DA SIFIR OLMASI DURUMU"
      ],
      "metadata": {
        "id": "s5gSbkLeE24D"
      }
    },
    {
      "cell_type": "code",
      "source": [
        "if sayi > 0:\n",
        "    print(\"Pozitif bir sayı girdiniz.\")\n",
        "elif sayi < 0:\n",
        "    print(\"Negatif bir sayı girdiniz.\")\n",
        "else:\n",
        "    print(\"Girdiğiniz sayı sıfır.\")"
      ],
      "metadata": {
        "id": "4eg1IUANE3qU"
      },
      "execution_count": null,
      "outputs": []
    },
    {
      "cell_type": "markdown",
      "source": [
        "BU SAYININ ÇİFT VE POZİTİF OLMA KOŞULU"
      ],
      "metadata": {
        "id": "7NUDX_d6FtE4"
      }
    },
    {
      "cell_type": "code",
      "source": [
        "if sayi % 2 == 0 :\n",
        "    print(\"sayı çiftir\")\n",
        "else:\n",
        "    print(\"sayı tektir\")"
      ],
      "metadata": {
        "id": "H-lqKpAjFzHg"
      },
      "execution_count": null,
      "outputs": []
    },
    {
      "cell_type": "markdown",
      "source": [
        "GİRİLEN NOTA GÖRE HARF ARALIĞI 80-100 A / 60-80 B"
      ],
      "metadata": {
        "id": "cl4EC008Go6E"
      }
    },
    {
      "cell_type": "code",
      "source": [
        "notunuz = int(input(\"Lütfen aldığınız notu giriniz: \"))\n",
        "print(\"Aldığınız not:\", notunuz)\n",
        "\n",
        "if notunuz >= 80:\n",
        "    print(\"Tebrikler, harf notunuz A\")\n",
        "elif notunuz < 80 and notunuz >= 60 :\n",
        "    print(\"Tebrikler, harf notunuz B\")\n",
        "else:\n",
        "    print(\"Harf notunuz F kaldınız. Üzgünüm.\")"
      ],
      "metadata": {
        "id": "OZkvo0qAG9JV"
      },
      "execution_count": null,
      "outputs": []
    },
    {
      "cell_type": "markdown",
      "source": [
        "KULLANICIDAN İSİM AL VE BU İSİM 5 KARAKTERDEN FAZLA İSE İSMİNİZ ÇOK UZUN YAZDIR"
      ],
      "metadata": {
        "id": "k_z66dmQJUqG"
      }
    },
    {
      "cell_type": "code",
      "source": [
        "isim = input(\"Lütfen isminizi giriniz: \")\n",
        "print(\"Girdiğiniz isim:\", isim)\n",
        "\n",
        "if len(isim) > 5:\n",
        "    print(\"İsminiz çok uzun.\")\n",
        "else:\n",
        "    print(\"İsminiz uygun.\")"
      ],
      "metadata": {
        "id": "FL3N0D5cKAaf"
      },
      "execution_count": null,
      "outputs": []
    },
    {
      "cell_type": "markdown",
      "source": [
        "GİRİLEN SAYININ ASAL OLUP OLMADIĞI - FOR İLE"
      ],
      "metadata": {
        "id": "CjEZG8EKD5G2"
      }
    },
    {
      "cell_type": "code",
      "source": [
        "sayi = int(input(\"Lütfen bir sayı girin: \"))\n",
        "\n",
        "if sayi <= 1:\n",
        "    print(\"Asal sayı değildir.\")\n",
        "else:\n",
        "    asal = True\n",
        "    for i in range(2, sayi):\n",
        "        if sayi % i == 0:\n",
        "            asal = False\n",
        "            break\n",
        "\n",
        "    if asal:\n",
        "        print(\"Bu sayı asaldır.\")\n",
        "    else:\n",
        "        print(\"Bu sayı asal değildir.\")"
      ],
      "metadata": {
        "id": "dgCd097NRI2v"
      },
      "execution_count": null,
      "outputs": []
    },
    {
      "cell_type": "markdown",
      "source": [
        "GİRİLEN SAYININ ASAL OLUP OLMADIĞI - WHİLE İLE"
      ],
      "metadata": {
        "id": "IaQfaBoYEBel"
      }
    },
    {
      "cell_type": "code",
      "source": [
        "sayi = int(input(\"Lütfen bir sayı girin: \"))\n",
        "\n",
        "if sayi <= 1:\n",
        "    print(\"Asal sayı değildir.\")\n",
        "else:\n",
        "    i = 2\n",
        "    asal = True\n",
        "    while i < sayi:\n",
        "        if sayi % i == 0:\n",
        "            asal = False\n",
        "            break\n",
        "        i += 1\n",
        "\n",
        "    if asal:\n",
        "        print(\"Bu sayı asaldır.\")\n",
        "    else:\n",
        "        print(\"Bu sayı asal değildir.\")\n"
      ],
      "metadata": {
        "id": "l5VAZ9blEI6Y"
      },
      "execution_count": null,
      "outputs": []
    },
    {
      "cell_type": "markdown",
      "source": [
        "NOTLAR=[45,85, 75,50]DİZESİNDE 75 İNDİSİNİ YAZDIRMA"
      ],
      "metadata": {
        "id": "9IsZVS5gEOLE"
      }
    },
    {
      "cell_type": "code",
      "source": [
        "notlar = [45, 85, 75, 50]\n",
        "\n",
        "print(\"75 sayısının indeksi:\", notlar.index(75))"
      ],
      "metadata": {
        "id": "WEM59SlDEgf4"
      },
      "execution_count": null,
      "outputs": []
    },
    {
      "cell_type": "code",
      "source": [
        "notlar = [45, 85, 75, 50]\n",
        "\n",
        "for i in range(len(notlar)):\n",
        "    if notlar[i] == 75:\n",
        "        print(\"75 sayısının indeksi:\", i)\n",
        "        break"
      ],
      "metadata": {
        "id": "Oc6HMrAyEhzk"
      },
      "execution_count": null,
      "outputs": []
    },
    {
      "cell_type": "markdown",
      "source": [
        "GİRİLEN SAYININ FAKTÖRİYELİNİ HEM FOR HEM DE WHILE DÖNGÜSÜYLE HESAPLAMA"
      ],
      "metadata": {
        "id": "j0yvARo1EvGo"
      }
    },
    {
      "cell_type": "code",
      "source": [
        "sayi = int(input(\"Faktöriyeli alınacak sayıyı girin: \"))\n",
        "faktoriyel = 1\n",
        "\n",
        "if sayi < 0:\n",
        "    print(\"Negatif sayıların faktöriyeli alınamaz.\")\n",
        "else:\n",
        "    for i in range(1, sayi + 1):\n",
        "        faktoriyel *= i\n",
        "    print(f\"{sayi}! = {faktoriyel}\")"
      ],
      "metadata": {
        "id": "8zPZdovREv-e"
      },
      "execution_count": null,
      "outputs": []
    },
    {
      "cell_type": "code",
      "source": [
        "sayi = int(input(\"Faktöriyeli alınacak sayıyı girin: \"))\n",
        "faktoriyel = 1\n",
        "i = 1\n",
        "\n",
        "if sayi < 0:\n",
        "    print(\"Negatif sayıların faktöriyeli alınamaz.\")\n",
        "else:\n",
        "    while i <= sayi:\n",
        "        faktoriyel *= i\n",
        "        i += 1\n",
        "    print(f\"{sayi}! = {faktoriyel}\")\n"
      ],
      "metadata": {
        "id": "w6EXjRmHE0vn"
      },
      "execution_count": null,
      "outputs": []
    },
    {
      "cell_type": "markdown",
      "source": [
        "GİRİLEN SAYININ FAKTÖRİYELİNİ ALMA"
      ],
      "metadata": {
        "id": "SZxrkvU4E-_n"
      }
    },
    {
      "cell_type": "code",
      "source": [
        "sayi = int(input(\"Faktöriyeli alınacak sayıyı giriniz: \"))\n",
        "faktoriyel = 1\n",
        "\n",
        "if sayi < 0:\n",
        "    print(\"Negatif sayıların faktöriyeli hesaplanamaz.\")\n",
        "else:\n",
        "    for i in range(1, sayi + 1):\n",
        "        faktoriyel *= i\n",
        "    print(f\"{sayi}! = {faktoriyel}\")"
      ],
      "metadata": {
        "id": "_UN4bnyrFDh5"
      },
      "execution_count": null,
      "outputs": []
    }
  ]
}